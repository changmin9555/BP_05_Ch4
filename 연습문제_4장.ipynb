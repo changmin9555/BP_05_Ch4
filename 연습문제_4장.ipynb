{
  "nbformat": 4,
  "nbformat_minor": 0,
  "metadata": {
    "colab": {
      "provenance": [],
      "collapsed_sections": []
    },
    "kernelspec": {
      "name": "python3",
      "display_name": "Python 3"
    },
    "language_info": {
      "name": "python"
    }
  },
  "cells": [
    {
      "cell_type": "markdown",
      "source": [
        "1 왜 다음과 같은 수식이 오류를 발생시키는가? 올바르게 수정하라 ’나는' + 12 + '개의 샤과를 먹었다.'"
      ],
      "metadata": {
        "id": "7mfw71xQFk_b"
      }
    },
    {
      "cell_type": "code",
      "execution_count": null,
      "metadata": {
        "colab": {
          "base_uri": "https://localhost:8080/"
        },
        "id": "fpuKSBYfFbcn",
        "outputId": "83dc15c4-0aa9-447f-b021-f83fa3197980"
      },
      "outputs": [
        {
          "output_type": "stream",
          "name": "stdout",
          "text": [
            "나는12개의 사과를 먹었다\n"
          ]
        }
      ],
      "source": [
        "print(\"나는\" + str(12) + \"개의 사과를 먹었다\")"
      ]
    },
    {
      "cell_type": "markdown",
      "source": [
        "2 다음과 같은 수식을 계산하면 결과는무엇인가? 'apple' + 'grape’ 'appIe’ * 3"
      ],
      "metadata": {
        "id": "HF32KBEYFo3I"
      }
    },
    {
      "cell_type": "code",
      "source": [
        "print('apple' + 'grape')\n",
        "print('apple' * 3)"
      ],
      "metadata": {
        "id": "FgQEIJUQFtJW"
      },
      "execution_count": null,
      "outputs": []
    },
    {
      "cell_type": "markdown",
      "source": [
        "3 다음과 같이 사용자가 입럭한 분자열 중에서 처음 2글자와 마지막 2글자를 추출한 후 에 이들을 합쳐서 출력해보자"
      ],
      "metadata": {
        "id": "1lxGbXp_Ftpw"
      }
    },
    {
      "cell_type": "code",
      "source": [
        "str = input(\"문자열을 입력하시오: \")\n",
        "s = str[0:2] + str[-2:] \n",
        "\n",
        "print(s)"
      ],
      "metadata": {
        "id": "BL4qQ7ieFv7p"
      },
      "execution_count": null,
      "outputs": []
    },
    {
      "cell_type": "markdown",
      "source": [
        "4 다음과 같이 사용자가 입력한 문자열 뒤에 항상“하는중\"을 붙이는 프로그램을 작셩해 보자."
      ],
      "metadata": {
        "id": "PhkOFbbhFwR2"
      }
    },
    {
      "cell_type": "code",
      "source": [
        "s=input(\"문자열을 입력하시오: \")\n",
        "s += \"하는 중\" \n",
        "print(s)"
      ],
      "metadata": {
        "id": "JKNq1ACYFyhn"
      },
      "execution_count": null,
      "outputs": []
    },
    {
      "cell_type": "markdown",
      "source": [
        "5 사용자가 입럭한 기호 안에 분자열을 삽입하려면 어떻게 해야하는가? 기호는 분자 2개로 이루어있다고 가정한다."
      ],
      "metadata": {
        "id": "-bkRWStiFy0A"
      }
    },
    {
      "cell_type": "code",
      "source": [
        "str = input(\"기호를 입력하시오: \") \n",
        "word = input(\"중간에 삽입할 문자열을 입력하시오: \")\n",
        "s = str[:1] + word + str[1:] \n",
        "print(s)"
      ],
      "metadata": {
        "id": "qTmkwNM-F1lo"
      },
      "execution_count": null,
      "outputs": []
    },
    {
      "cell_type": "markdown",
      "source": [
        "6 4개의 숫자가 들어 있는 러스트가 있다. 러스트 안의 숫자들을 꺼내서 합계를 계산하여 츨럭하는 프로그렘을 작성하라 반복문은 사용하지 않는다 러스트의 길이는 항상 4라고 가정한다."
      ],
      "metadata": {
        "id": "a7nShWalF182"
      }
    },
    {
      "cell_type": "code",
      "source": [
        "lista = [1, 2, 3, 4] \n",
        "sum = 0 \n",
        "sum = lista[0] + lista[1] + lista[2] + lista[3]\n",
        "print(\"리스트 = \", lista) \n",
        "print(\"리스트 숫자들의 합 = \", sum)"
      ],
      "metadata": {
        "id": "IHpJ555NF3GS"
      },
      "execution_count": null,
      "outputs": []
    },
    {
      "cell_type": "markdown",
      "source": [
        "7 사용지가 업럭하는3가지 색상을리스트에 저장하였다가하나씩 꺼내서 그색상으로채 워진 원을 그러는 프로그렘을 작성해보자 반복분은 사용하지 않는다 채워진 원을 그러 려면 다옴와 같은 문장들을 사용한다 t.fiⅡcoIor(¨yeⅡowIl) # 채워지는 색샹을 지정한다. t.beginjil10 # 채우기를 시작한다. t.circIe(50) # 채워진 원을 그린다. t.end_fiⅡ0 # 채우기를 종료한다."
      ],
      "metadata": {
        "id": "LhbtM_ETF3fK"
      }
    },
    {
      "cell_type": "code",
      "source": [
        "import turtle\n",
        "t = turtle.Turtle()\n",
        "t.shape(\"turtle\")\n",
        "\n",
        "lista = [ ]\n",
        "color = input(\"색상 #1을 입력하시오: \")\n",
        "lista.append(color)\n",
        "color = input(\"색상 #2을 입력하시오: \")\n",
        "lista.append(color)\n",
        "color = input(\"색상 #3을 입력하시오: \")\n",
        "lista.append(color)\n",
        "\n",
        "t.fillcolor(lista[0])\n",
        "t.begin_fill()\n",
        "t.circle(50)\n",
        "t.end_fill()\n",
        "\n",
        "t.up()\n",
        "t.goto(100, 0)\n",
        "t.down()\n",
        "t.fillcolor(lista[1])\n",
        "t.begin_fill()\n",
        "t.circle(50)\n",
        "t.end_fill()\n",
        "\n",
        "t.up()\n",
        "t.goto(200, 0)\n",
        "t.down() \n",
        "t.fillcolor(lista[2]) \n",
        "t.begin_fill() \n",
        "t.circle(50) \n",
        "t.end_fill() \n",
        "t._screen.exitonclick()"
      ],
      "metadata": {
        "id": "UBnPZBviF5gx"
      },
      "execution_count": null,
      "outputs": []
    },
    {
      "cell_type": "markdown",
      "source": [
        "8 사용자가 입럭하는3개의 좌표(x, y)를러스트에 저장한다 이들좌표를꺼내서 거븍이 를 이동하는 프로그랩을 작성해보자"
      ],
      "metadata": {
        "id": "Sb16mq-LF50Z"
      }
    },
    {
      "cell_type": "code",
      "source": [
        "import turtle \n",
        "t = turtle.Turtle() \n",
        "t.shape(\"turtle\") \n",
        "lista = [ ]\n",
        "lista.append(int(input(\"x1: \")))\n",
        "lista.append(int(input(\"y1: \"))) \n",
        "lista.append(int(input(\"x2: \"))) \n",
        "lista.append(int(input(\"y2: \"))) \n",
        "lista.append(int(input(\"x3: \"))) \n",
        "lista.append(int(input(\"y3: \"))) \n",
        "t.goto(lista[0], lista[1]) \n",
        "t.goto(lista[2], lista[3]) \n",
        "t.goto(lista[4], lista[5]) \n",
        "t._screen.exitonclick()"
      ],
      "metadata": {
        "id": "dCApMktHF7-3"
      },
      "execution_count": null,
      "outputs": []
    }
  ]
}